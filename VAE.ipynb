{
  "nbformat": 4,
  "nbformat_minor": 0,
  "metadata": {
    "colab": {
      "name": "HW4Q2.ipynb",
      "version": "0.3.2",
      "provenance": []
    },
    "kernelspec": {
      "name": "python3",
      "display_name": "Python 3"
    },
    "accelerator": "GPU"
  },
  "cells": [
    {
      "metadata": {
        "id": "j5VfTwHCRvBR",
        "colab_type": "text"
      },
      "cell_type": "markdown",
      "source": [
        "**Problem 2: Variational Autoencoders on Poor Sevens**\n",
        "\n",
        "Importing all the libraries"
      ]
    },
    {
      "metadata": {
        "id": "WivrCzV7dehS",
        "colab_type": "code",
        "colab": {}
      },
      "cell_type": "code",
      "source": [
        "import tensorflow as tf\n",
        "import numpy as np\n",
        "import matplotlib.pyplot as plt\n",
        "import pickle\n",
        "import math\n",
        "import warnings\n",
        "warnings.filterwarnings(\"ignore\")"
      ],
      "execution_count": 0,
      "outputs": []
    },
    {
      "metadata": {
        "id": "ReWDuUZ2R7ZS",
        "colab_type": "text"
      },
      "cell_type": "markdown",
      "source": [
        "Mounting the google drive files to load the input data"
      ]
    },
    {
      "metadata": {
        "id": "n3m4u5Kxdx4e",
        "colab_type": "code",
        "colab": {
          "base_uri": "https://localhost:8080/",
          "height": 34
        },
        "outputId": "84cb020d-f7db-45ce-e28d-6cb28cb8db10"
      },
      "cell_type": "code",
      "source": [
        "from google.colab import drive\n",
        "drive.mount('/content/gdrive')\n",
        "directory='/content/gdrive/My Drive/Masters/DeepLearning/Homework4/Data/'"
      ],
      "execution_count": 280,
      "outputs": [
        {
          "output_type": "stream",
          "text": [
            "Drive already mounted at /content/gdrive; to attempt to forcibly remount, call drive.mount(\"/content/gdrive\", force_remount=True).\n"
          ],
          "name": "stdout"
        }
      ]
    },
    {
      "metadata": {
        "id": "yf56cZZ1SCLt",
        "colab_type": "text"
      },
      "cell_type": "markdown",
      "source": [
        "Function to read the pickle object"
      ]
    },
    {
      "metadata": {
        "id": "UOI80ohNyD2c",
        "colab_type": "code",
        "colab": {}
      },
      "cell_type": "code",
      "source": [
        "def read_pkl(name):\n",
        "  with open(name+'.pkl', 'rb') as f:\n",
        "      X = pickle.load(f)\n",
        "  return X"
      ],
      "execution_count": 0,
      "outputs": []
    },
    {
      "metadata": {
        "id": "-kD05VwFSI6i",
        "colab_type": "text"
      },
      "cell_type": "markdown",
      "source": [
        "Get the training & test dataset"
      ]
    },
    {
      "metadata": {
        "id": "e61O5GrOypKr",
        "colab_type": "code",
        "colab": {}
      },
      "cell_type": "code",
      "source": [
        "train=read_pkl(directory+'hw4_tr7')\n",
        "test=read_pkl(directory+'hw4_te7')\n",
        "train=np.vstack((train,test))"
      ],
      "execution_count": 0,
      "outputs": []
    },
    {
      "metadata": {
        "id": "whrw75sZzpmN",
        "colab_type": "code",
        "colab": {}
      },
      "cell_type": "code",
      "source": [
        "tf.reset_default_graph()  # To reset all the parameters of the graph for every execution\n",
        "batch_size=100"
      ],
      "execution_count": 0,
      "outputs": []
    },
    {
      "metadata": {
        "id": "iYUIyw_hSOKf",
        "colab_type": "text"
      },
      "cell_type": "markdown",
      "source": [
        "Parameters of the Convolutional Layer"
      ]
    },
    {
      "metadata": {
        "id": "bLj4eeFn9udy",
        "colab_type": "code",
        "colab": {}
      },
      "cell_type": "code",
      "source": [
        "filter1=32  # Number of filters in 1st Convolutional Layer\n",
        "kernel_size=(2,2)  # Filter size\n",
        "kernel_stride=2  # Kernel stride\n",
        "pad='valid'  # Padding type\n",
        "filter2=64  # Number of filters in 2nd Convolutional Layer\n",
        "k=4  # Dimension of the Latent variables"
      ],
      "execution_count": 0,
      "outputs": []
    },
    {
      "metadata": {
        "id": "PspT3aFGSv73",
        "colab_type": "text"
      },
      "cell_type": "markdown",
      "source": [
        "Encoder function of VAE"
      ]
    },
    {
      "metadata": {
        "id": "2MHtkfYzMOOb",
        "colab_type": "code",
        "colab": {}
      },
      "cell_type": "code",
      "source": [
        "def encoder(x,keep_prob):\n",
        "  # 1st Convolutional Layer\n",
        "  conv1=tf.layers.conv2d(tf.expand_dims(x,-1),filters=filter1,strides=kernel_stride,kernel_size=kernel_size,padding=pad,activation=tf.nn.relu,\n",
        "                         kernel_initializer=tf.contrib.layers.variance_scaling_initializer(),name='conv1')\n",
        "  conv1 = tf.nn.dropout(conv1, keep_prob=keep_prob)  # Dropout\n",
        "\n",
        "  # 2nd Convolutional Layer\n",
        "  conv2=tf.layers.conv2d(conv1,filters=filter2,strides=kernel_stride,kernel_size=kernel_size,padding=pad,activation=tf.nn.relu,\n",
        "                         kernel_initializer=tf.contrib.layers.variance_scaling_initializer(),name='conv2')\n",
        "  conv2 = tf.nn.dropout(conv2, keep_prob=keep_prob)\n",
        "\n",
        "  # Fully Connected Layer to learn the parameters of the probability distribution of the Latent variables\n",
        "  mean=tf.layers.dense(tf.layers.flatten(conv2),k,activation=tf.nn.tanh,kernel_initializer=tf.contrib.layers.xavier_initializer(),name='mean')\n",
        "  sd=tf.layers.dense(tf.layers.flatten(conv2),k,activation=tf.nn.sigmoid,kernel_initializer=tf.contrib.layers.xavier_initializer(),name='sd')\n",
        "  return mean,sd"
      ],
      "execution_count": 0,
      "outputs": []
    },
    {
      "metadata": {
        "id": "KZUYGbHKTYRY",
        "colab_type": "text"
      },
      "cell_type": "markdown",
      "source": [
        "Reparameterisation function of VAE"
      ]
    },
    {
      "metadata": {
        "id": "pbDNN4d_Oxof",
        "colab_type": "code",
        "colab": {}
      },
      "cell_type": "code",
      "source": [
        "def reparameterize(mean, sd):\n",
        "    return tf.random.normal(shape=[1,k]) * sd + mean  # z=sigma*epsilon+mean"
      ],
      "execution_count": 0,
      "outputs": []
    },
    {
      "metadata": {
        "id": "kF_Rg-pFTisa",
        "colab_type": "text"
      },
      "cell_type": "markdown",
      "source": [
        "Decoder function of VAE"
      ]
    },
    {
      "metadata": {
        "id": "4qyOIsCMNKU4",
        "colab_type": "code",
        "colab": {}
      },
      "cell_type": "code",
      "source": [
        "def decoder(z,keep_prob):\n",
        "  # 1st Fully connected layer\n",
        "  t_dense1=tf.layers.dense(z,1568,activation=tf.nn.relu,kernel_initializer=tf.contrib.layers.variance_scaling_initializer(),name='t_dense1')\n",
        "  t_dense1=tf.reshape(t_dense1,[-1,7,7,filter1])\n",
        "  \n",
        "  # 1st Deconvolution layer\n",
        "  conv1_t=tf.layers.conv2d_transpose(t_dense1,filters=filter2,kernel_size=kernel_size,strides=kernel_stride,padding='same',\n",
        "                                     kernel_initializer=tf.contrib.layers.variance_scaling_initializer(),activation=tf.nn.relu)\n",
        "  conv1_t=tf.nn.dropout(conv1_t,keep_prob=keep_prob)  # Dropout\n",
        "  \n",
        "  # 2nd Deconvolution layer\n",
        "  conv2_t=tf.layers.conv2d_transpose(conv1_t,filters=filter1,kernel_size=kernel_size,strides=kernel_stride,padding='same',\n",
        "                                     kernel_initializer=tf.contrib.layers.variance_scaling_initializer(),activation=tf.nn.relu)\n",
        "  conv2_t=tf.nn.dropout(conv2_t,keep_prob=keep_prob)\n",
        "  \n",
        "  # 2nd Fully connected layer to generate new images \n",
        "  t_dense2=tf.layers.dense(tf.layers.flatten(conv2_t),784,activation=tf.nn.relu,kernel_initializer=tf.contrib.layers.variance_scaling_initializer())\n",
        "  return tf.reshape(t_dense2,[-1,train.shape[1],train.shape[2]])"
      ],
      "execution_count": 0,
      "outputs": []
    },
    {
      "metadata": {
        "id": "e0Pe6hwAUHvy",
        "colab_type": "text"
      },
      "cell_type": "markdown",
      "source": [
        "Function to generate code vectors from the learned parameters of probability distribution of latent space"
      ]
    },
    {
      "metadata": {
        "id": "Fl_HjLxHYV12",
        "colab_type": "code",
        "colab": {}
      },
      "cell_type": "code",
      "source": [
        "def generate_code_vectors(mu,sigma,dim):\n",
        "  size=21\n",
        "  codes=np.zeros((size,k))\n",
        "  for i in range(k):\n",
        "    if i==dim:\n",
        "      codes[:,i]=np.arange(-5,5.5,0.5)  # Alter the 'dim' dimension of the code vectors\n",
        "    else:\n",
        "      codes[:,i]=np.repeat(np.random.normal(mu[i],sigma[i],1),size)  # keep the other dimensions of the code vectors constant\n",
        "  return codes"
      ],
      "execution_count": 0,
      "outputs": []
    },
    {
      "metadata": {
        "id": "cHtvMGt2Vf99",
        "colab_type": "text"
      },
      "cell_type": "markdown",
      "source": [
        "Defining the flow of the VAE network"
      ]
    },
    {
      "metadata": {
        "id": "VNDS22z1AkbU",
        "colab_type": "code",
        "colab": {}
      },
      "cell_type": "code",
      "source": [
        "x=tf.placeholder(tf.float32,shape=[None,train.shape[1],train.shape[2]])  # Input placeholder\n",
        "keep_prob=tf.placeholder(tf.float32)  # keep_prob=1-dropout\n",
        "codes=tf.placeholder(tf.float32,shape=[None,k])  # placeholder for the code vectors\n",
        "mean,sd=encoder(x,keep_prob)\n",
        "codes=reparameterize(mean,sd)\n",
        "reconst=decoder(codes,keep_prob)"
      ],
      "execution_count": 0,
      "outputs": []
    },
    {
      "metadata": {
        "id": "gk4mvYihWwnW",
        "colab_type": "text"
      },
      "cell_type": "markdown",
      "source": [
        "Training the VAE network"
      ]
    },
    {
      "metadata": {
        "id": "0WuBZNApTqdS",
        "colab_type": "code",
        "colab": {
          "base_uri": "https://localhost:8080/",
          "height": 204
        },
        "outputId": "42d2d539-309c-4cf0-f96c-e8bfe727fed7"
      },
      "cell_type": "code",
      "source": [
        "loss=tf.losses.mean_squared_error(x,reconst)  # Mean squared error function\n",
        "train_step=tf.train.AdamOptimizer(learning_rate=0.00001).minimize(loss)  # Adam optimizer with learning rate of 0.00001\n",
        "sess=tf.InteractiveSession()\n",
        "tf.global_variables_initializer().run()  # Initialize all the graph variables\n",
        "maxEpoch=1001\n",
        "for im in range(maxEpoch):\n",
        "  i=0\n",
        "  indices=np.arange(train.shape[0])\n",
        "  np.random.shuffle(indices)  # Shuffle the order of the training data\n",
        "  offset=batch_size\n",
        "  while i<len(indices):\n",
        "    errt,_=sess.run([loss,train_step],feed_dict={x:train[indices[i:i+offset]],keep_prob:0.7})  # Minibatch training\n",
        "    i+=offset\n",
        "    if (i+offset)>train.shape[0]:\n",
        "      offset=train.shape[0]-i\n",
        "    break\n",
        "  if not im%100:\n",
        "    print('Epoch number:{} Loss:{}'.format(im,errt))"
      ],
      "execution_count": 290,
      "outputs": [
        {
          "output_type": "stream",
          "text": [
            "Epoch number:0 Loss:0.16763944923877716\n",
            "Epoch number:100 Loss:0.06916237622499466\n",
            "Epoch number:200 Loss:0.06929740309715271\n",
            "Epoch number:300 Loss:0.08377832174301147\n",
            "Epoch number:400 Loss:0.06580597907304764\n",
            "Epoch number:500 Loss:0.06515074521303177\n",
            "Epoch number:600 Loss:0.058817747980356216\n",
            "Epoch number:700 Loss:0.06022217869758606\n",
            "Epoch number:800 Loss:0.05696269869804382\n",
            "Epoch number:900 Loss:0.0552380196750164\n",
            "Epoch number:1000 Loss:0.05449248477816582\n"
          ],
          "name": "stdout"
        }
      ]
    },
    {
      "metadata": {
        "id": "Q4UMOlwyXfzL",
        "colab_type": "text"
      },
      "cell_type": "markdown",
      "source": [
        "Generate new samples with the randomly generated code vectors"
      ]
    },
    {
      "metadata": {
        "id": "PbvJqBTuWUQ5",
        "colab_type": "code",
        "colab": {
          "base_uri": "https://localhost:8080/",
          "height": 333
        },
        "outputId": "d20a51c5-1352-4aff-a880-b961344b430f"
      },
      "cell_type": "code",
      "source": [
        "z,mu,sigma,c=sess.run([reconst,mean,sd,codes],feed_dict={x:train,keep_prob:1})\n",
        "for i in range(k):\n",
        "  index=np.random.randint(train.shape[0],size=1)\n",
        "  code_vectors=generate_code_vectors(mu[index[0]],sigma[index[0]],0)\n",
        "  generated_samples=sess.run(reconst,feed_dict={codes:code_vectors,keep_prob:1})\n",
        "  new_samples=generated_samples[0]\n",
        "  for j in range(1,generated_samples.shape[0]):\n",
        "    new_samples=np.hstack((new_samples,generated_samples[j]))\n",
        "  plot_fig(new_samples)  # plot the new images generated from the code vectors"
      ],
      "execution_count": 291,
      "outputs": [
        {
          "output_type": "display_data",
          "data": {
            "image/png": "[encoded data removed]",
            "text/plain": [
              "<Figure size 1584x504 with 1 Axes>"
            ]
          },
          "metadata": {
            "tags": []
          }
        },
        {
          "output_type": "display_data",
          "data": {
            "image/png": "[encoded data removed]",
            "text/plain": [
              "<Figure size 1584x504 with 1 Axes>"
            ]
          },
          "metadata": {
            "tags": []
          }
        },
        {
          "output_type": "display_data",
          "data": {
            "image/png": "[encoded data removed]",
            "text/plain": [
              "<Figure size 1584x504 with 1 Axes>"
            ]
          },
          "metadata": {
            "tags": []
          }
        },
        {
          "output_type": "display_data",
          "data": {
            "image/png": "[encoded data removed]",
            "text/plain": [
              "<Figure size 1584x504 with 1 Axes>"
            ]
          },
          "metadata": {
            "tags": []
          }
        }
      ]
    },
    {
      "metadata": {
        "id": "bALEPiKpYISe",
        "colab_type": "text"
      },
      "cell_type": "markdown",
      "source": [
        "Function to plot the image"
      ]
    },
    {
      "metadata": {
        "id": "kM-sZfcW-DBY",
        "colab_type": "code",
        "colab": {}
      },
      "cell_type": "code",
      "source": [
        "def plot_fig(q):\n",
        "  fig = plt.figure(figsize=(23, 7))\n",
        "  ax = fig.add_subplot(1, 1, 1)\n",
        "  ax.matshow(q,cmap = plt.cm.binary)\n",
        "  plt.xticks(np.array([]))\n",
        "  plt.yticks(np.array([]))\n",
        "  plt.show()"
      ],
      "execution_count": 0,
      "outputs": []
    },
    {
      "metadata": {
        "id": "yTKbKVC6YCd_",
        "colab_type": "code",
        "colab": {}
      },
      "cell_type": "code",
      "source": [
        "sess.close()"
      ],
      "execution_count": 0,
      "outputs": []
    }
  ]
}